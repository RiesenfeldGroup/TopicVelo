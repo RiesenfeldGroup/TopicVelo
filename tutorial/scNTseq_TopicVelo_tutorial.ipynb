{
 "cells": [
  {
   "cell_type": "markdown",
   "id": "c8ce6a7e-4dce-494e-9133-728535ad843e",
   "metadata": {},
   "source": [
    "<font size=\"10\">Apply *TopicVelo* to scNT-seq (a metabolic labeling method) human haematopoiesis</font>"
   ]
  },
  {
   "cell_type": "code",
   "execution_count": null,
   "id": "a7b4df54-54b0-41a4-9377-a31b1b576eda",
   "metadata": {},
   "outputs": [],
   "source": [
    "import numpy as np\n",
    "import matplotlib.pyplot as plt\n",
    "import pandas as pd\n",
    "\n",
    "from scipy.io import mmwrite \n",
    "from scipy.sparse import csr_matrix, hstack\n",
    "\n",
    "import tomotopy as tp\n",
    "from tomotopy.coherence import Coherence\n",
    "from tomotopy.utils import Corpus\n",
    "\n",
    "import scvelo as scv\n",
    "from scvelo.utils import get_transition_matrix"
   ]
  },
  {
   "cell_type": "code",
   "execution_count": null,
   "id": "397e951c-daa4-4f9d-94f0-6bce574f0f40",
   "metadata": {},
   "outputs": [],
   "source": [
    "from topicvelo.tm_utils import cells_to_documents, FastTopics_cluster_assign, TopicGeneFiltering, remove_U, TopicGenesQC, aggregate_clusters\n",
    "from topicvelo.embed_pl import Plot_Topics, pl_TopTopicGenes, Plot_Genes, Plot_Velocity, mfpt_plot, comparision_stacked_bar_plot, comparision_violin_plot_v2, relative_flux_plot \n",
    "from topicvelo.dist_pl import Experimental_JD_Plot, Burst_Simulation_JD_Plot, OS_Analytical_JD_Plot, ExpJD_Cluster_Focus_HeatMap\n",
    "from topicvelo.transcription_simulation import GeometricBurstTranscription, JointDistributionAnalysis, JointDistributionAnalysis_exp\n",
    "from topicvelo.inference_tools import Burst_Inference_Gene, KLdivergence, topic_threshold_heuristic_plot, Burst_Inference\n",
    "from topicvelo.transition_matrix import Combined_Topics_Transitions, get_cells_indices, velocity_graph\n",
    "from topicvelo.vel_eval_utils import *"
   ]
  },
  {
   "cell_type": "markdown",
   "id": "88dea932-e179-4b4c-96ff-df4b83de0fa0",
   "metadata": {},
   "source": [
    "<font size=\"6\">read the data which was provided in the *dynamo* paper</font>"
   ]
  },
  {
   "cell_type": "code",
   "execution_count": null,
   "id": "44e080eb-a641-49a8-b7f7-409e370be94d",
   "metadata": {},
   "outputs": [],
   "source": [
    "#download data at https://uchicago.box.com/s/6ars8qijvt2axbjhxcriu9hybu3gkhkg\n",
    "adata = scv.read('data/scNT-seq/hsc_hv2000.h5ad')\n",
    "adata.var_names_make_unique\n",
    "adata.var.index = adata.var['gene_name'].tolist()"
   ]
  },
  {
   "cell_type": "code",
   "execution_count": null,
   "id": "7820c69f-d739-4e8e-aac1-fcd5e1db4a92",
   "metadata": {
    "tags": []
   },
   "outputs": [],
   "source": [
    "del adata.layers['size_corrected_unspliced']\n",
    "del adata.layers['size_corrected_spliced']"
   ]
  },
  {
   "cell_type": "code",
   "execution_count": null,
   "id": "f1c714a0-300b-4ca1-9cf5-f4e293fc48e5",
   "metadata": {
    "tags": []
   },
   "outputs": [],
   "source": [
    "adata"
   ]
  },
  {
   "cell_type": "markdown",
   "id": "e3c8789d-3344-47a6-b1ff-9bf21cab9c56",
   "metadata": {},
   "source": [
    "<font size=\"10\">Preprocessing</font>\n",
    "<br>\n",
    "<font size=\"6\">We create a matrix ```S_U``` by stacking the spliced and unspliced count matrix and save this matrix and the assoicated gene names</font>"
   ]
  },
  {
   "cell_type": "code",
   "execution_count": null,
   "id": "a5b267b3-06ea-4704-9335-98a0b745c5ca",
   "metadata": {},
   "outputs": [],
   "source": [
    "genes_S = adata.var['gene_name'].to_list()\n",
    "genes_U = [g+'_U' for g in genes_S]\n",
    "gene_names = np.hstack((genes_S, genes_U))"
   ]
  },
  {
   "cell_type": "code",
   "execution_count": null,
   "id": "9d8441f5-4145-4367-aac8-0839d31e725d",
   "metadata": {},
   "outputs": [],
   "source": [
    "S_U = csr_matrix(hstack([adata.layers['raw_spliced'], adata.layers['raw_unspliced']]), dtype=np.int32)\n",
    "mmwrite('data/scNT-seq/scNT_HH_filtered_SU_Counts', S_U)\n",
    "pd.DataFrame(gene_names).to_csv(\"data/scNT-seq/scNT_HH_filtered_SU_Genes_names.csv\")\n",
    "pd.DataFrame(adata.obs_names.to_list()).to_csv(\"data/scNT-seq/scNT_HH_filtered_SU_Cells_names.csv\")"
   ]
  },
  {
   "cell_type": "markdown",
   "id": "a36deaae-8fef-4a38-a27a-eac8fa9b3b09",
   "metadata": {},
   "source": [
    "<font size=\"10\">Analysis with scVelo</font>\n",
    "<br>\n",
    "<font size=\"6\">We use the stochastic model to compute the velocity and the associated transition matrix.</font>"
   ]
  },
  {
   "cell_type": "code",
   "execution_count": null,
   "id": "b31fa7a1-64c7-4bf3-84dd-da95da4a69ce",
   "metadata": {},
   "outputs": [],
   "source": [
    "scv.tl.velocity(adata, vkey='scvelo_stochastic_velocity')\n",
    "scv.tl.velocity(adata, vkey='scvelo_stochastic_velocity')\n",
    "scv.tl.velocity_graph(adata, vkey='scvelo_stochastic_velocity')"
   ]
  },
  {
   "cell_type": "code",
   "execution_count": null,
   "id": "eac9202f-059e-4a6e-83c4-9d611465ca5a",
   "metadata": {
    "tags": []
   },
   "outputs": [],
   "source": [
    "scv.pl.velocity_embedding_stream(adata, basis='umap_ori',dpi=100, \n",
    "                                 color='cell_type', vkey='scvelo_stochastic_velocity', legend_loc='on data', title = '', figsize=(7.2, 5))"
   ]
  },
  {
   "cell_type": "markdown",
   "id": "7c5bbe5b-5628-4cc4-b1f3-62f1a146c7db",
   "metadata": {
    "tags": []
   },
   "source": [
    "<font size=\"10\">Identify optimal number of topics with Tomotopy</font>\n",
    "<br>\n",
    "<font size=\"6\">We run topic modeling over a range of topic numbers for 100 reptitions each then compute a coherence measures $c_V$ to determine a reasonable range for the number of topics</font>"
   ]
  },
  {
   "cell_type": "code",
   "execution_count": null,
   "id": "22822f6f-3624-4a54-8a6b-ac278aa36fee",
   "metadata": {
    "tags": []
   },
   "outputs": [],
   "source": [
    "ks = [2, 3, 4, 5, 6, 7, 8, 9, 10, 11, 12, 13, 14, 15, 16, 17, 18, 19, 20]\n",
    "reps = 50"
   ]
  },
  {
   "cell_type": "code",
   "execution_count": null,
   "id": "d92895c9-9ae4-49cf-823b-6bbbeecb92fe",
   "metadata": {
    "tags": []
   },
   "outputs": [],
   "source": [
    "lda_models = np.zeros((len(ks), reps), dtype=object)\n",
    "coherence_cv = np.zeros((len(ks), reps))"
   ]
  },
  {
   "cell_type": "code",
   "execution_count": null,
   "id": "45616189-6c99-43bf-b76a-a4ac76320c2c",
   "metadata": {
    "tags": []
   },
   "outputs": [],
   "source": [
    "corpus = Corpus()\n",
    "for i in range(adata.n_obs):\n",
    "    corpus.add_doc(cells_to_documents(S_U[i,:].A[0], gene_names))"
   ]
  },
  {
   "cell_type": "code",
   "execution_count": null,
   "id": "b7f9aa0d-4eaa-4b6c-bcc0-110d1ac360cb",
   "metadata": {
    "tags": []
   },
   "outputs": [],
   "source": [
    "for k in range(len(ks)): \n",
    "    for r in range(reps):\n",
    "        #perform topic modeling for a variety of topic numbers\n",
    "        lda = tp.LDAModel(k=ks[k], rm_top=0)\n",
    "        lda.burn_in = 50\n",
    "        lda.add_corpus(corpus)\n",
    "        #may want to change the parallel parameters\n",
    "        lda.train(iter=150, parallel=4)\n",
    "        lda_models[k][r] =  lda\n",
    "        coherence_cv[k,r] = Coherence(lda, coherence='c_v').get_score()"
   ]
  },
  {
   "cell_type": "code",
   "execution_count": null,
   "id": "b8174c41-22a0-4dec-a4ef-8cf969dec15b",
   "metadata": {
    "tags": []
   },
   "outputs": [],
   "source": [
    "coherence_means = np.mean(coherence_cv, axis=1)\n",
    "coherence_err = np.std(coherence_cv, axis=1)\n",
    "plt.errorbar(ks, coherence_means,  yerr=coherence_err, fmt='o-',zorder=1)\n",
    "plt.scatter([6,7,8,9,10], coherence_means[4:9],c='red', zorder=2)\n",
    "plt.ylabel('$C_v$', size=16)\n",
    "plt.xticks([2,4,6,8,10,12,14,16,18,20])\n",
    "plt.yticks([0.33, 0.35, 0.37, 0.39])\n",
    "plt.xlabel('Number of Topics', size=16)"
   ]
  },
  {
   "cell_type": "markdown",
   "id": "0c2677bc-111e-497d-8b2e-34270cba79d7",
   "metadata": {},
   "source": [
    "<font size=\"6\">From the result above we notice for more than 8 topics, the mean of $C_v$ across 100 reptitions stablizes around 0.4. We do not want to overfit the model so we chose K=8 for further analysis. </font>\n",
    "<br>\n",
    "<font size=\"6\">Now we perform topic modeling in *R* using *FastTopics* which can perform advanced differential expression analysis. Please see the *R* markdown file. </font>"
   ]
  },
  {
   "cell_type": "markdown",
   "id": "fd9bb829-5608-4a3b-a699-fc73bdaa910b",
   "metadata": {},
   "source": [
    "\n",
    "<font size=\"6\">After we finished runing the *R* Markodown file, the topic weights and differential expression analysis are saved locally. We load the topic weights of cells and add the topic weights to the adata object. Then we visulize the topic weights on umap.</font>"
   ]
  },
  {
   "cell_type": "code",
   "execution_count": null,
   "id": "827afabb-f550-44b9-be54-51fb9c1ccb90",
   "metadata": {},
   "outputs": [],
   "source": [
    "#load the cellweights from fast topics and skip header and first column which are just junk\n",
    "cellWeights = np.genfromtxt('data/scNT-seq/scNT_HH_fastTopics_fit_CellWeights.csv', delimiter=\",\", skip_header=1)[:,1:]"
   ]
  },
  {
   "cell_type": "code",
   "execution_count": null,
   "id": "f604d98f-2f01-43df-bbef-f87289ab2d1e",
   "metadata": {},
   "outputs": [],
   "source": [
    "#get topic number\n",
    "K = cellWeights.shape[1]\n",
    "print(cellWeights.shape)"
   ]
  },
  {
   "cell_type": "code",
   "execution_count": null,
   "id": "0b16a983-f453-47e3-ba75-31361182a4e5",
   "metadata": {},
   "outputs": [],
   "source": [
    "#add topic weights\n",
    "FastTopics_cluster_assign(adata, cellWeights, t_type = 'fastTopics')"
   ]
  },
  {
   "cell_type": "code",
   "execution_count": null,
   "id": "932c4dc0-8195-48be-8500-426de83009b5",
   "metadata": {
    "tags": []
   },
   "outputs": [],
   "source": [
    "#plot the topics\n",
    "for i in range(K):\n",
    "    Plot_Topics(adata, str(i), t_type = 'fastTopics', basis='umap_ori', savefile = True, point_size=10, shrink=0.5, \n",
    "                labelsize=20, cbar_save='topic'+str(i)+'weights.svg')"
   ]
  },
  {
   "cell_type": "markdown",
   "id": "f7695bb6-b8cc-452d-9f44-f9592f2e3d4b",
   "metadata": {},
   "source": [
    "<font size=\"6\">load the differential expression analysis from *FastTopics*. Select topic genes then add them to the adata object for later access</font>"
   ]
  },
  {
   "cell_type": "code",
   "execution_count": null,
   "id": "8722cf90-913e-4a46-a8a0-f8e71076e97c",
   "metadata": {},
   "outputs": [],
   "source": [
    "#load the cellweights from fast topics and skip header and first column which are just junk\n",
    "de_postmean = np.genfromtxt('data/scNT-seq/scNT_HH_de_postmean.csv', delimiter=\",\", skip_header=1)[:,1:]\n",
    "de_lfsr = np.genfromtxt('data/scNT-seq/scNT_HH_de_lfsr.csv', delimiter=\",\", skip_header=1)[:,1:]\n",
    "de_z = np.genfromtxt('data/scNT-seq/scNT_HH_de_z.csv', delimiter=\",\", skip_header=1)[:,1:]"
   ]
  },
  {
   "cell_type": "code",
   "execution_count": null,
   "id": "44bbc7f2-2ae2-4201-9655-4e55580eb4bd",
   "metadata": {},
   "outputs": [],
   "source": [
    "#select the topic genes\n",
    "ttgs, ttg_up, ttg_down = TopicGeneFiltering(de_postmean, de_lfsr, \n",
    "                                            lfc_up_th = 0.5, lfc_down_th=-0.5, \n",
    "                                            lfsr_up_th = 0.001, lfsr_down_th = 0.001)"
   ]
  },
  {
   "cell_type": "code",
   "execution_count": null,
   "id": "384ecf51-cf7d-4d52-b941-debaff4a5435",
   "metadata": {},
   "outputs": [],
   "source": [
    "top_genes = remove_U(ttgs, gene_names)\n",
    "top_genes_up = remove_U(ttg_up, gene_names)\n",
    "top_genes_down = remove_U(ttg_down, gene_names)\n",
    "\n",
    "#show how many topic genes have a positive log-fold changes in each topic\n",
    "for ttgs_up_k in top_genes_up:\n",
    "    print(len(ttgs_up_k))\n",
    "print('\\n')\n",
    "for ttgs_k in top_genes:\n",
    "    print(len(ttgs_k))"
   ]
  },
  {
   "cell_type": "code",
   "execution_count": null,
   "id": "1555d9ed-f045-4aff-acf3-36458518c918",
   "metadata": {},
   "outputs": [],
   "source": [
    "adata.uns['top_genes'] = top_genes"
   ]
  },
  {
   "cell_type": "markdown",
   "id": "ed508b4f-5798-4139-9d3f-5c2e6794761d",
   "metadata": {},
   "source": [
    "<font size=\"6\">Let's make a few bar plots to look at genes with the highest log-fold changes in topics 1, 3, 5, 6</font>"
   ]
  },
  {
   "cell_type": "code",
   "execution_count": null,
   "id": "c9accea6-0c4f-4f3f-b3be-8a5079244995",
   "metadata": {
    "tags": []
   },
   "outputs": [],
   "source": [
    "ttg_names1, log_fold_change_ttg1, z_ttg1 = pl_TopTopicGenes(10, 1, gene_names, ttg_up, de_postmean, de_z,  save='scNT_HH_k=8_t1_up_ttg.svg', xticks=[0, 1, 2], figsize=(5,6))    \n",
    "ttg_names3, log_fold_change_ttg3, z_ttg3  = pl_TopTopicGenes(10, 3, gene_names, ttg_up, de_postmean, de_z, save='scNT_HH_k=8_t3_up_ttg.svg', xticks=[0, 1, 2], figsize=(5,6))\n",
    "ttg_names5, log_fold_change_ttg5, z_ttg5  = pl_TopTopicGenes(10, 5, gene_names, ttg_up, de_postmean, de_z, save='scNT_HH_k=8_t5_up_ttg.svg', xticks=[0, 1, 2], figsize=(5,6))    \n",
    "ttg_names6, log_fold_change_ttg6, z_ttg6 = pl_TopTopicGenes(10, 6, gene_names, ttg_up, de_postmean, de_z, save='scNT_HH_k=8_t6_up_ttg.svg', xticks=[0, 1, 2], figsize=(5,6))    "
   ]
  },
  {
   "cell_type": "markdown",
   "id": "e47bb317-8882-407c-b5e9-d1d514fbc5d3",
   "metadata": {},
   "source": [
    "<font size=\"6\">Plot some examples expression of topic genes. We will plot the size-normalized expression on the log-scale in the following order</font>\n",
    "<br>\n",
    "<font size=\"6\">For topic 1 we plot *HDC*</font>\n",
    "<br>\n",
    "<font size=\"6\">For topic 3 we plot *PLEK*</font>\n",
    "<br>\n",
    "<font size=\"6\">For topic 5 we plot *PCNA*</font>\n",
    "<br>\n",
    "<font size=\"6\">For topic 6 we plot *RPL9*</font>"
   ]
  },
  {
   "cell_type": "code",
   "execution_count": null,
   "id": "7371c0b8-b0d7-4557-8e31-800d072c21c0",
   "metadata": {
    "tags": []
   },
   "outputs": [],
   "source": [
    "Genes_to_plot = ['HDC', 'PLEK', 'PCNA', 'RPL9']\n",
    "for gene in Genes_to_plot:\n",
    "    Plot_Genes(adata, gene, 'spliced', log_scale = True, basis='umap_ori', savefile = gene+'_spliced.png', expr_percentile = 100, s=10, shrink=0.3, labelsize=20, cbar_save=gene+'_spliced'+'_colorbar'+'.svg')"
   ]
  },
  {
   "cell_type": "markdown",
   "id": "a7e0e090-3b73-4ddf-b147-d0edff711bb2",
   "metadata": {},
   "source": [
    "<font size=\"6\">*HDC* is strongly associated with basophils</font>\n",
    "<br>\n",
    "<font size=\"6\">*PLEK* is connected to megakaryocytes</font>\n",
    "<br>\n",
    "<font size=\"6\">*PCNA*, *RPL9* are ubiquitously expressed and topics 5 and 6 are correlated with minichromosome (MCM-genes) and ribsome(RPL-genes) so we do not use topics 5 and 6 for downstream analysis.</font>"
   ]
  },
  {
   "cell_type": "markdown",
   "id": "8d9b241f-7a66-4caa-94f0-8e9bd139582c",
   "metadata": {},
   "source": [
    "<font size=\"6\">Now Let's see how *TopicVelo*'s use of topic modeling helps zoom into the dynamics of key genes</font>"
   ]
  },
  {
   "cell_type": "code",
   "execution_count": null,
   "id": "2ff09669-c22c-45e5-a578-68b52bdcffd1",
   "metadata": {},
   "outputs": [],
   "source": [
    "gene = 'F13A1'\n",
    "topic_to_focus = '3'\n",
    "ExpJD_Cluster_Focus_HeatMap(adata, gene, clusters= 'fastTopics_cluster', focus = topic_to_focus, vmin=1e-3, x_cutoff=10)"
   ]
  },
  {
   "cell_type": "markdown",
   "id": "3c262c11-7f67-44f3-a61e-5a8c368a6fb6",
   "metadata": {},
   "source": [
    "<font size=\"6\">We observed trend of upgregulations in the distribution over topics which is not seen in the distribution over all cells</font>"
   ]
  },
  {
   "cell_type": "markdown",
   "id": "616c023c-6e89-4c1c-bd69-1efc0013c8b1",
   "metadata": {},
   "source": [
    "<font size=\"6\">The following code demonstrates the joint distribution recovery process of F13A1 in topic 3 via one-state model vs. the burst model</font>"
   ]
  },
  {
   "cell_type": "code",
   "execution_count": null,
   "id": "75ea1562-7ef4-43fb-83f4-5dbb03b86a66",
   "metadata": {},
   "outputs": [],
   "source": [
    "#create a subset of only cells whose highest topic weight is topic 3\n",
    "ts = [3]\n",
    "ttc_indices = []\n",
    "for k in ts:\n",
    "    ttc_indices.extend([i for i in range(adata.n_obs) if adata.obs['fastTopics_cluster'][i] == k])\n",
    "adata_subset_3 = adata[ttc_indices]"
   ]
  },
  {
   "cell_type": "markdown",
   "id": "9385255e-8e13-4bdb-8e65-4d0159345b83",
   "metadata": {},
   "source": [
    "<font size=\"6\">For the one state model, we showed the maximum liklihood estimation parameters are $\\alpha'=<u>$ and $\\gamma' = \\frac{<u>}{<s>}$. \n",
    "<br>\n",
    "    For the burst model, we use our numerical inference scheme to estimate the MLE parameters.</font>"
   ]
  },
  {
   "cell_type": "code",
   "execution_count": null,
   "id": "10b4ed57-54e1-42a8-8428-20af564005f4",
   "metadata": {},
   "outputs": [],
   "source": [
    "#analytical MLE for one state\n",
    "alpha = np.mean(adata_subset_3[:,gene].layers['raw_unspliced'])\n",
    "gamma = alpha/np.mean(adata_subset_3[:,gene].layers['raw_spliced'])\n",
    "\n",
    "#numerical estimate MLE with the burst model \n",
    "InferredParameters, minKL = Burst_Inference_Gene(adata_subset_3, gene, xkey = 'raw_spliced')"
   ]
  },
  {
   "cell_type": "code",
   "execution_count": null,
   "id": "e50e1443-354e-4698-b601-f503ca4715df",
   "metadata": {},
   "outputs": [],
   "source": [
    "#Joint distribution for one-state\n",
    "OS_JD = OS_Analytical_JD_Plot(gene, (alpha, gamma), 6, 10, vmax = 1, vmin = 1e-3, log_scale_cb = True, save = 'F13A1_OS_topic3.svg')\n",
    "\n",
    "#Joint distribution for burst model\n",
    "Burst_sim_JD = Burst_Simulation_JD_Plot(gene, InferredParameters, x_cutoff = 10, y_cutoff = 6, vmax = 1, vmin = 1e-3, log_scale_cb = True, save = 'F13A1_burst_topic3.svg')\n",
    "\n",
    "#plot the experimental distribution again\n",
    "F13A1_t3_JD = Experimental_JD_Plot(adata_subset_3, gene, xkey = 'raw_spliced', ukey='raw_unspliced', x_cutoff = 10, y_cutoff = 6, vmin=1e-3, vmax=1, log_scale_cb = True, save = 'F13A1_EXP_JD_Topic.svg')"
   ]
  },
  {
   "cell_type": "code",
   "execution_count": null,
   "id": "4fea041d-eb62-47b4-a1ec-2985a090e9aa",
   "metadata": {},
   "outputs": [],
   "source": [
    "#KL divergence between the one state model and observed\n",
    "print(np.log(KLdivergence(OS_JD, F13A1_t3_JD)))\n",
    "\n",
    "#KL divergence between the burst model and observed\n",
    "print(np.log(KLdivergence(Burst_sim_JD, F13A1_t3_JD)))"
   ]
  },
  {
   "cell_type": "markdown",
   "id": "9323634c-156b-4f21-bc9f-bca8b66467a1",
   "metadata": {},
   "source": [
    "<font size=\"6\">We see the recovery using the burst model matches the experimental distribution more closely than the one-state model especially in the lowly expressed regime.</font>"
   ]
  },
  {
   "cell_type": "markdown",
   "id": "8e926814-be63-401b-b08e-18f5b6986f5e",
   "metadata": {},
   "source": [
    "<font size=\"10\">Choosing topic threshold</font>\n",
    "<br>\n",
    "<font size=\"6\">Let's use the heuristics based on the KL divergence of topic genes with the highest log-fold changes</font>"
   ]
  },
  {
   "cell_type": "markdown",
   "id": "f89b2a2d-6605-4f4e-b5c6-cb20da6d2e85",
   "metadata": {},
   "source": [
    "<font size=\"10\">TopicVelo integrates the transition matrices</font>\n",
    "<br>\n",
    "<font size=\"6\">We will use previously determined threshold on the topics relevant to differentitaion</font>"
   ]
  },
  {
   "cell_type": "code",
   "execution_count": null,
   "id": "b74a8523-1db6-4957-b980-d3d9fb0d2db8",
   "metadata": {
    "tags": []
   },
   "outputs": [],
   "source": [
    "topics = [0,1,3,4,7]\n",
    "topics_to_use_percentile_thresholds = [35, 35, 35, 35, 35]"
   ]
  },
  {
   "cell_type": "code",
   "execution_count": null,
   "id": "92e936b2-0ccb-4264-8648-f2f55650acbb",
   "metadata": {
    "tags": []
   },
   "outputs": [],
   "source": [
    "combined_TM, ttc_indices = Combined_Topics_Transitions(adata, topics = topics, velocity_type = 'burst', \n",
    "                                                            recompute = True, recompute_matrix = True, steady_state_perc = 95,\n",
    "                                                            topic_weights_th_percentile = topics_to_use_percentile_thresholds, \n",
    "                                                            subset_save_prefix = 'scNT_HH_') "
   ]
  },
  {
   "cell_type": "code",
   "execution_count": null,
   "id": "13c734ee-af47-419d-ba3a-11f9c2f7e8a2",
   "metadata": {
    "tags": []
   },
   "outputs": [],
   "source": [
    "#compute embedded velocity vectors from TopicVelo's integrated transition matrix\n",
    "topicVelo_embedding = scv.tl.velocity_embedding(adata, basis='umap_ori', T=combined_TM)\n",
    "scv.pl.velocity_embedding_stream(adata, basis='umap_ori', V=topicVelo_embedding, dpi=150, color='cell_type', legend_loc='on data',\n",
    "                                 title = 'TopicVelo', figsize=(7.5, 5))"
   ]
  },
  {
   "cell_type": "markdown",
   "id": "6831792c-6a4b-4b4f-bb19-0b3e317e584d",
   "metadata": {},
   "source": [
    "<font size=\"6\">The streamline from *TopicVelo*, as opposed to *scVelo* captures majority of differentiation lineages and agrees much better with *dynamo* (Please see main Figure 3 a, b, c for a side-by-side comparision.</font>"
   ]
  },
  {
   "cell_type": "markdown",
   "id": "b31e140b-f6ba-498a-805c-702dfd43a1fb",
   "metadata": {},
   "source": [
    "<font size=\"6\">Compute Stationary distribution </font>"
   ]
  },
  {
   "cell_type": "code",
   "execution_count": null,
   "id": "86bd02ff-b935-43f7-9075-5422f92a12e1",
   "metadata": {},
   "outputs": [],
   "source": [
    "adata.obs['topicVelo_stationary_distribution'] = fate_probabilities(adata, 'topicVelo')"
   ]
  },
  {
   "cell_type": "code",
   "execution_count": null,
   "id": "cd3ed945-0440-4af1-899b-ac79221e4835",
   "metadata": {},
   "outputs": [],
   "source": [
    "adata.obsp['scvelo_stochastic_T'] = get_transition_matrix(adata, vkey='scvelo_stochastic_velocity')\n",
    "adata.obs['scvelo_stochastic_stationary_distribution'] = fate_probabilities(adata, 'scvelo_stochastic')"
   ]
  },
  {
   "cell_type": "code",
   "execution_count": null,
   "id": "462f00ce-08dd-4c7f-9e76-1015b3f42b04",
   "metadata": {},
   "outputs": [],
   "source": [
    "comparision_stacked_bar_plot(adata, ['scvelo_stochastic_stationary_distribution', 'topicVelo_stationary_distribution'], \n",
    "                             labels=['scVelo', 'TopicVelo'], groupby='cell_type',\n",
    "                             categories=['HSC', 'MEP-like', 'GMP-like',  'Ery', 'Bas', 'Mon', 'Neu', 'Meg'],\n",
    "                        fontsize=16,  title='Stationary Distribution by Cell Types',\n",
    "                        figsize=(9,5), savefile='stat_dist.svg')"
   ]
  },
  {
   "cell_type": "code",
   "execution_count": null,
   "id": "b5b1d138-d234-4ae3-ae75-65c1030112c8",
   "metadata": {
    "tags": []
   },
   "outputs": [],
   "source": [
    "scv.pl.scatter(adata, basis='umap_ori', color='batch')"
   ]
  },
  {
   "cell_type": "code",
   "execution_count": null,
   "id": "4d04929b-b106-4c32-80ff-1230609af33f",
   "metadata": {
    "tags": []
   },
   "outputs": [],
   "source": [
    "comparision_stacked_bar_plot(adata, ['scvelo_stochastic_stationary_distribution', 'topicVelo_stationary_distribution'], \n",
    "                             labels=['scVelo', 'TopicVelo'], groupby='batch',\n",
    "                             categories=['JL_10', 'JL12_0', 'JL12_1'],\n",
    "                        fontsize=16,  title='Stationary Distribution by Time Points',\n",
    "                        figsize=(9,5), savefile='stat_dist_timepoint.svg')"
   ]
  },
  {
   "cell_type": "markdown",
   "id": "9fcd0411-c07c-456d-8fda-48ef2e4ae868",
   "metadata": {},
   "source": [
    "<font size=\"6\">Compute mean first passage time </font>"
   ]
  },
  {
   "cell_type": "code",
   "execution_count": null,
   "id": "bb905f19-fe76-4f1e-938c-2895c1a2cafb",
   "metadata": {},
   "outputs": [],
   "source": [
    "#choose destination cells for the mfpt analysis\n",
    "#cells that have very high meg characteristics were chosen \n",
    "dest_cells, _ = get_cells_indices(adata, [3], topic_weights_th_percentile = 95)\n",
    "dest_cells = np.unique(np.array(dest_cells).flatten())"
   ]
  },
  {
   "cell_type": "code",
   "execution_count": null,
   "id": "12740098-298c-439f-8ce0-ea0517c0dbb9",
   "metadata": {},
   "outputs": [],
   "source": [
    "mfpt_to_targets(adata, 'topicVelo', dest_cells, k_mfpt = 'topicVelo_mfpt_3')\n",
    "mfpt_to_targets(adata, 'scvelo_stochastic', dest_cells, k_mfpt = 'scVelo_mfpt_3')"
   ]
  },
  {
   "cell_type": "code",
   "execution_count": null,
   "id": "6a2c641b-7533-4715-9c7b-1cfa21b0235e",
   "metadata": {},
   "outputs": [],
   "source": [
    "#Put other cell types into their own things\n",
    "aggregate_clusters(adata, 'cell_type', ['HSC', 'MEP-like', 'Ery', 'Meg'], 'cell_type_agg', other_names='others')"
   ]
  },
  {
   "cell_type": "code",
   "execution_count": null,
   "id": "4523069a-c561-4ee5-bc12-5f456e51c7fd",
   "metadata": {
    "tags": []
   },
   "outputs": [],
   "source": [
    "adata.obs['cell_type_agg']"
   ]
  },
  {
   "cell_type": "code",
   "execution_count": null,
   "id": "547d7695-8c01-4b35-b8bf-238b17e43297",
   "metadata": {
    "tags": []
   },
   "outputs": [],
   "source": [
    "comparision_violin_plot_v2(adata, ['scVelo_mfpt_3', 'topicVelo_mfpt_3'], ['HSC','MEP-like', 'others'],\n",
    "                           groupby='cell_type_agg', xlabels=['scVelo','topicVelo'],\n",
    "                           groupby_spacing=5, title='Rescaled MFPT to Megakaryocytes',fontsize=30,\n",
    "                           figsize=(12,5), ylim=[0.5,1.15], savefile='mfpt_3_main.svg')"
   ]
  },
  {
   "cell_type": "markdown",
   "id": "1e49f76d-bbd6-435b-8cd2-1dc95dca27fc",
   "metadata": {},
   "source": [
    "<font size=\"6\">Permutation test to get statistical significance between the distribution of mfpt</font>"
   ]
  },
  {
   "cell_type": "code",
   "execution_count": null,
   "id": "a1bedca7-1780-4cb3-97d0-9565e6b830f7",
   "metadata": {
    "tags": []
   },
   "outputs": [],
   "source": [
    "for k_mfpt in ['scVelo_mfpt_3', 'topicVelo_mfpt_3']:\n",
    "    print(k_mfpt, 'HSC', permutation_test(adata, 'cell_type_agg', 'HSC', 'others', k_mfpt, alternative='less'))"
   ]
  },
  {
   "cell_type": "code",
   "execution_count": null,
   "id": "5571e0f6-a7d2-4a6f-9a6a-dce374a8df8f",
   "metadata": {
    "tags": []
   },
   "outputs": [],
   "source": [
    "for k_mfpt in ['scVelo_mfpt_3', 'topicVelo_mfpt_3']:\n",
    "    print(k_mfpt, 'MEP-like', permutation_test(adata, 'cell_type_agg', 'MEP-like', 'others', k_mfpt, alternative='less'))"
   ]
  },
  {
   "cell_type": "markdown",
   "id": "32479b53-e04a-4aab-9ea4-fa825d2fc861",
   "metadata": {
    "tags": []
   },
   "source": [
    "<font size=\"6\">Compute relative flux between known transitions </font>"
   ]
  },
  {
   "cell_type": "code",
   "execution_count": null,
   "id": "815fece2-0047-4488-8fb3-1aba2c9b9fa2",
   "metadata": {
    "tags": []
   },
   "outputs": [],
   "source": [
    "cluster_transitions = [('GMP-like','Mon'),('GMP-like','Bas'),\n",
    "                       ('MEP-like','Ery'), ('MEP-like','Meg')]\n",
    "transition_matrices = [ 'scvelo_stochastic_T', 'topicVelo_T']"
   ]
  },
  {
   "cell_type": "code",
   "execution_count": null,
   "id": "d3ab23d3-14ee-45fa-be73-e74a29d00b57",
   "metadata": {
    "tags": []
   },
   "outputs": [],
   "source": [
    "res = []\n",
    "for k_transition_matrix in transition_matrices:\n",
    "    res.append((k_transition_matrix, \n",
    "                relative_flux_correctness(adata,'cell_type', k_transition_matrix, cluster_transitions)[0]))"
   ]
  },
  {
   "cell_type": "code",
   "execution_count": null,
   "id": "f48de63a-449e-49e9-9034-9a4d0bf70c59",
   "metadata": {
    "tags": []
   },
   "outputs": [],
   "source": [
    "res"
   ]
  },
  {
   "cell_type": "code",
   "execution_count": null,
   "id": "5e4eaf05-a888-43df-9c72-efac06c19fbc",
   "metadata": {
    "tags": []
   },
   "outputs": [],
   "source": [
    "relative_flux_plot(adata,['scvelo_stochastic_T','topicVelo_T'], \n",
    "                   legends = ['scVelo', 'topicVelo*'],\n",
    "                   title = 'Relative Flux for Known Transitions', ylim=[-0.75, 0.75], figsize=(10,5), fontsize=15)"
   ]
  }
 ],
 "metadata": {
  "kernelspec": {
   "display_name": "Python 3 (ipykernel)",
   "language": "python",
   "name": "python3"
  },
  "language_info": {
   "codemirror_mode": {
    "name": "ipython",
    "version": 3
   },
   "file_extension": ".py",
   "mimetype": "text/x-python",
   "name": "python",
   "nbconvert_exporter": "python",
   "pygments_lexer": "ipython3",
   "version": "3.7.2"
  }
 },
 "nbformat": 4,
 "nbformat_minor": 5
}
